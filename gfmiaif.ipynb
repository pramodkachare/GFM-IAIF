{
 "cells": [
  {
   "cell_type": "code",
   "execution_count": 19,
   "metadata": {},
   "outputs": [],
   "source": [
    "# GFM-IAIF\n",
    "# Glottal Flow Model-based Iterative Adaptive Inverse Filtering\n",
    "#\n",
    "# Description\n",
    "#   This function estimates the linear prediction coefficients of both\n",
    "#   vocal tract and glottis filters from a speech signal frame with the\n",
    "#   GFM-IAIF method [1].\n",
    "#   The latter is an extension of IAIF [2], with an improved pre-emphasis\n",
    "#   step, that allows to extract a wide-band glottis response,\n",
    "#   incorporating both glottal formant and spectral tilt characteristics.\n",
    "#   This function is based on the iaif.m implementation from the COVAREP\n",
    "#   toolbox [3].\n",
    "#\n",
    "#\n",
    "# Inputs\n",
    "# s_gvl :  [Nx1]\tSpeech signal frame\n",
    "# (nv)\t:  [1x1]\tOrder of LP analysis for vocal tract (def. 48)\n",
    "# (ng)\t:  [1x1]\tOrder of LP analysis for glottal source (def. 3)\n",
    "# (d)  \t:  [1x1]\tLeaky integration coefficient (def. 0.99)\n",
    "# (win)\t:  [Nx1]\tWindow used before LPC (def. Hanning)\n",
    "#\n",
    "# Outputs\n",
    "#  av  \t:  [1xnv]\tLP coefficients of vocal tract contribution\n",
    "#  ag \t:  [1xng]\tLP coefficients of glottis contribution\n",
    "#  al \t:  [1x2]\tLP coefficients of lip radiation contribution\n",
    "#\n",
    "#\n",
    "# Examples\n",
    "#  [av,ag,al] = gfmiaif(x) provides the LP coefficients of vocal tract,\n",
    "#               glottis and lip radiation with default parameters\n",
    "#  [av,ag,al] = gfmiaif(x,nv,ng,d,win) allows to choose parameters\n",
    "#\n",
    "# GFM-IAIF has been designed on the assumption that a third order filter\n",
    "# allows to describe most of the glottis-related timbre variations (e.g.,\n",
    "# tenseness, effort) with a compact set of parameters.\n",
    "# Thus, the use of ng = 3 is highly encouraged.\n",
    "#\n",
    "#\n",
    "# References\n",
    "#  [1] O. Perrotin and I. V. McLoughlin (2019)\n",
    "#      \"A spectral glottal flow model for source-filter separation of\n",
    "#      speech\", in IEEE International Conference on Acoustics, Speech, and\n",
    "#      Signal Processing (ICASSP), Brighton, UK, May 12-17, pp. 7160-7164.\n",
    "#\n",
    "#  [2] P. Alku (1992)\n",
    "#      \"Glottal wave analysis with pitch synchronous iterative adaptive\n",
    "#      inverse filtering\", Speech Communication, 11(2-3), pp. 109-118.\n",
    "#\n",
    "#  [3] G. Degottex, J. Kane, T. Drugman, T. Raitio and S. Scherer (2014)\n",
    "#      \"COVAREP - A collaborative voice analysis repository for speech\n",
    "#      technologies\", in IEEE International Conference on Acoustics,\n",
    "#      Speech and Signal Processing (ICASSP), Florence, Italy, May 4-9,\n",
    "#      pp. 960-964.\n",
    "#\n",
    "# Copyright (c) 2019 Univ. Grenoble Alpes, CNRS, Grenoble INP, GIPSA-lab\n",
    "#\n",
    "# License\n",
    "#   This file is free software; you can redistribute it and/or modify it\n",
    "#   under the terms of the GNU Lesser General Public License as published\n",
    "#   by the Free Software Foundation; either version 3 of the License, or\n",
    "#   (at your option) any later version.\n",
    "#   This file is distributed in the hope that it will be useful, but\n",
    "#   WITHOUT ANY WARRANTY; without even the implied warranty of\n",
    "#   MERCHANTABILITY or FITNESS FOR A PARTICULAR PURPOSE. See the GNU Lesser\n",
    "#   General Public License for more details. \n",
    "#\n",
    "# Author (MATLAB version)\n",
    "#  Olivier Perrotin olivier.perrotin@gipsa-lab.grenoble-inp.fr\n",
    "#\n",
    "# Author (Python version)\n",
    "#  Pramod Kachare kachare.pramod1991@gmail.com "
   ]
  },
  {
   "cell_type": "code",
   "execution_count": 20,
   "metadata": {},
   "outputs": [],
   "source": [
    "import numpy as np\n",
    "from scipy.signal import lfilter\n",
    "import librosa as lb\n",
    "\n",
    "import matplotlib.pyplot as plt"
   ]
  },
  {
   "cell_type": "code",
   "execution_count": 21,
   "metadata": {},
   "outputs": [],
   "source": [
    "s_gvl=np.arange(1, 201)/200\n",
    "nv=16\n",
    "ng=3\n",
    "d=0.99\n",
    "win=[]"
   ]
  },
  {
   "cell_type": "code",
   "execution_count": 22,
   "metadata": {},
   "outputs": [],
   "source": [
    "s_gvl = s_gvl.ravel()\n",
    "# ----- Set default parameters -------------------------------------------\n",
    "if not len(list(win)):\n",
    "    # Window for LPC estimation\n",
    "    win = np.hanning(s_gvl.shape[0])\n"
   ]
  },
  {
   "cell_type": "code",
   "execution_count": 23,
   "metadata": {},
   "outputs": [
    {
     "name": "stdout",
     "output_type": "stream",
     "text": [
      "Lpf 17\n",
      "x_gvl (217,)\n",
      "idx_pf (200,) 17 216\n"
     ]
    },
    {
     "data": {
      "text/plain": [
       "[<matplotlib.lines.Line2D at 0x2387e79ed48>]"
      ]
     },
     "execution_count": 23,
     "metadata": {},
     "output_type": "execute_result"
    },
    {
     "data": {
      "image/png": "[encoded data removed]",
      "text/plain": [
       "<Figure size 432x288 with 1 Axes>"
      ]
     },
     "metadata": {
      "needs_background": "light"
     },
     "output_type": "display_data"
    }
   ],
   "source": [
    "# ----- Addition of pre-frame --------------------------------------------\n",
    "\n",
    "# For the successive removals of the estimated LPC envelopes, a\n",
    "# mean-normalized pre-frame ramp is added at the beginning of the frame\n",
    "# in order to diminish ripple. The ramp is removed after each filtering.\n",
    "Lpf = nv+1                         # Pre-frame length\n",
    "x_gvl = np.hstack((np.linspace(-s_gvl[0],s_gvl[0],Lpf),  s_gvl))    # Prepend\n",
    "idx_pf = np.arange(Lpf, x_gvl.shape[0])     # Indexes that exclude the pre-frame\n",
    "\n",
    "print('Lpf', Lpf)\n",
    "print('x_gvl', x_gvl.shape)\n",
    "print('idx_pf', idx_pf.shape, idx_pf[0], idx_pf[-1])\n",
    "plt.plot(x_gvl)"
   ]
  },
  {
   "cell_type": "code",
   "execution_count": 24,
   "metadata": {},
   "outputs": [
    {
     "name": "stdout",
     "output_type": "stream",
     "text": [
      "s_gv (200,)\n",
      "x_gv (217,)\n",
      "win (200,)\n"
     ]
    }
   ],
   "source": [
    "# ----- Cancel lip radiation contribution --------------------------------\n",
    "# Define lip radiation filter\n",
    "al = [1.0, -d];\n",
    "\n",
    "# Integration of signal using filter 1/[1 -d z^(-1)]\n",
    "# - Input signal (for LPC estimation)\n",
    "s_gv = lfilter([1.0], al, s_gvl);\n",
    "\n",
    "# - Pre-framed input signal (for LPC envelope removal)\n",
    "x_gv = lfilter([1.0], al, x_gvl);\n",
    "\n",
    "\n",
    "print('s_gv', s_gv.shape)\n",
    "print('x_gv', x_gv.shape)\n",
    "print('win', win.shape)\n"
   ]
  },
  {
   "cell_type": "code",
   "execution_count": 25,
   "metadata": {},
   "outputs": [
    {
     "name": "stdout",
     "output_type": "stream",
     "text": [
      "ag1 [ 1.         -0.99977308]\n",
      "i 0\n",
      "ag1x [ 1.         -0.99981112]\n",
      "ag1 [ 1.         -1.9995842   0.99958424]\n",
      "i 1\n",
      "ag1x [ 1.         -0.99982158]\n",
      "ag1 [ 1.         -2.99940578  2.99881167 -0.9994059 ]\n",
      "i 2\n",
      "ag1x [ 1.         -0.99975636]\n",
      "ag1 [ 1.         -3.99916214  5.99748668 -3.99748694  0.9991624 ]\n"
     ]
    }
   ],
   "source": [
    "# # ----- Gross glottis estimation -----------------------------------------\n",
    "# # Iterative estimation of glottis with ng first order filters\n",
    "ag1 = lb.lpc(np.multiply(s_gv, win), 1)         # First 1st order LPC estimation\n",
    "print('ag1', ag1)\n",
    "for i in range(ng):\n",
    "    print('i', i)\n",
    "    # Cancel current estimate of glottis contribution from speech signal\n",
    "    x_v1x = lfilter(ag1, [1.0], x_gv)\t# Inverse filtering\n",
    "    s_v1x = x_v1x[idx_pf]      # Remove pre-ramp\n",
    "    # Next 1st order LPC estimation\n",
    "    ag1x = lb.lpc(np.multiply(s_v1x, win), 1)   # 1st order LPC\n",
    "    # Update gross estimate of glottis contribution\n",
    "    ag1 = np.convolve(ag1, ag1x)\t# Combine 1st order estimation with previous\n",
    "\n",
    "    print('ag1x', ag1x)\n",
    "    print('ag1', ag1)"
   ]
  },
  {
   "cell_type": "code",
   "execution_count": 26,
   "metadata": {},
   "outputs": [],
   "source": [
    "# ----- Fine glottis estimation ------------------------------------------\n",
    "# Cancel gross estimate of vocal tract contribution from speech signal\n",
    "x_g1 = lfilter(ag1, [1.0], x_gv)      # Inverse filtering\n",
    "s_g1 = x_g1[idx_pf]            # Remove pre-ramp\n",
    "\n",
    "# Fine estimate of the glottis filter\n",
    "ag = lb.lpc(np.multiply(s_g1, win), ng)         # ng order estimation"
   ]
  },
  {
   "cell_type": "code",
   "execution_count": 27,
   "metadata": {},
   "outputs": [],
   "source": [
    "# ----- Fine vocal tract estimation --------------------------------------\n",
    "# Cancel fine estimate of glottis contribution from speech signal\n",
    "x_v = lfilter(ag, [1.0], x_gv)        # Inverse filtering\n",
    "s_v = x_v[idx_pf]              # Remove pre-ramp\n",
    "\n",
    "# Fine estimate of the vocal tract filter\n",
    "av = lb.lpc(np.multiply(s_v, win), nv)          # nv order LPC estimation"
   ]
  },
  {
   "cell_type": "code",
   "execution_count": 28,
   "metadata": {},
   "outputs": [
    {
     "data": {
      "text/plain": [
       "(array([ 1.00000000e+00, -5.67742566e+00,  1.33603247e+01, -1.66525007e+01,\n",
       "         1.15628476e+01, -4.21722459e+00,  6.19505951e-01,  4.16028924e-03,\n",
       "         1.73642216e-04,  6.39553507e-05,  8.71622415e-06, -3.17808103e-03,\n",
       "         1.95867928e-02, -4.64771440e-02,  5.44628758e-02, -3.16935984e-02,\n",
       "         7.36528743e-03]),\n",
       " array([ 1.        ,  0.15079032, -0.09182607, -0.16945253]),\n",
       " [1.0, -0.99])"
      ]
     },
     "execution_count": 28,
     "metadata": {},
     "output_type": "execute_result"
    }
   ],
   "source": [
    "av, ag, al"
   ]
  }
 ],
 "metadata": {
  "kernelspec": {
   "display_name": "Python 3",
   "language": "python",
   "name": "python3"
  },
  "language_info": {
   "codemirror_mode": {
    "name": "ipython",
    "version": 3
   },
   "file_extension": ".py",
   "mimetype": "text/x-python",
   "name": "python",
   "nbconvert_exporter": "python",
   "pygments_lexer": "ipython3",
   "version": "3.7.4"
  }
 },
 "nbformat": 4,
 "nbformat_minor": 4
}
